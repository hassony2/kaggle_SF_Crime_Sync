{
 "cells": [
  {
   "cell_type": "markdown",
   "metadata": {},
   "source": [
    "**The goal is to create a classifier that predicts for all values the same probabilities\n",
    "that are equal to the proportion of intances in each category**\n",
    "\n",
    "This gives a \"very naive classifier\", for which we compute the log_loss\n",
    "\n",
    "This gives an elemet of comparison when we will create other prediction models"
   ]
  },
  {
   "cell_type": "code",
   "execution_count": 6,
   "metadata": {
    "collapsed": false
   },
   "outputs": [],
   "source": [
    "from sklearn import metrics\n",
    "import numpy as np\n",
    "import scipy as scp\n",
    "import pandas"
   ]
  },
  {
   "cell_type": "code",
   "execution_count": 8,
   "metadata": {
    "collapsed": false
   },
   "outputs": [
    {
     "name": "stderr",
     "output_type": "stream",
     "text": [
      "D:\\programmation\\logiciel\\anaconda\\lib\\site-packages\\pandas\\core\\generic.py:2790: SettingWithCopyWarning: \n",
      "A value is trying to be set on a copy of a slice from a DataFrame.\n",
      "Try using .loc[row_indexer,col_indexer] = value instead\n",
      "\n",
      "See the the caveats in the documentation: http://pandas.pydata.org/pandas-docs/stable/indexing.html#indexing-view-versus-copy\n",
      "  regex=regex)\n"
     ]
    }
   ],
   "source": [
    "# Load data\n",
    "train_data_frame = pandas.read_csv(\"data\\\\train.csv\", sep=\",\", quotechar='\"')\n",
    "\n",
    "# remove outliers\n",
    "df = train_data_frame[train_data_frame.Y < 38]\n",
    "\n",
    "# Create dictionnary for crime category with index as key\n",
    "crimeCategoryList = np.unique(df.Category)\n",
    "indexCrimeCategoryList = list(range(len(crimeCategoryList)))\n",
    "crimeCategoryDict = dict(zip(crimeCategoryList,indexCrimeCategoryList))\n",
    "\n",
    "# Replace Category by index (!index ordering is alphabetical)\n",
    "df.replace({\"Category\": crimeCategoryDict}, inplace = True)"
   ]
  },
  {
   "cell_type": "code",
   "execution_count": 9,
   "metadata": {
    "collapsed": true
   },
   "outputs": [],
   "source": [
    "def convertToSubmittable(prediction):\n",
    "    \"\"\"\n",
    "    Transforms a column of predictions as a number associated to a Crime Category (between 0 and 38)\n",
    "    into a dataframe filled with 0s except 1 coding the predicted Crime Category in the corresponding column\n",
    "    :param prediction: 1 dimensional ndarray with values in [0:38]\n",
    "    :return submittable: 2 dimensional ndarray with {columns : Crime Categories, rows : Predictions}\n",
    "    \"\"\"\n",
    "    submittable = np.zeros((len(prediction),len(crimeCategoryList)))\n",
    "    for i in range(len(prediction)):\n",
    "        submittable[i][prediction[i]] = 1\n",
    "    return submittable\n"
   ]
  },
  {
   "cell_type": "code",
   "execution_count": 13,
   "metadata": {
    "collapsed": false
   },
   "outputs": [
    {
     "name": "stdout",
     "output_type": "stream",
     "text": [
      "\n"
     ]
    }
   ],
   "source": [
    "# Creates groupby object that groups data by\n",
    "by_param = df.groupby(df[\"Category\"])\n",
    "# Apllying .size() allows to extract number of instances for each Crime Category in each discreteParam\n",
    "table = by_param.size()\n",
    "total = table.sum()\n",
    "proptable = table/total\n",
    "naive_classifier = [list(proptable) for i in range(table.sum())]"
   ]
  },
  {
   "cell_type": "code",
   "execution_count": 15,
   "metadata": {
    "collapsed": false
   },
   "outputs": [
    {
     "name": "stdout",
     "output_type": "stream",
     "text": [
      "[[ 0.  0.  0. ...,  0.  1.  0.]\n",
      " [ 0.  0.  0. ...,  0.  0.  0.]\n",
      " [ 0.  0.  0. ...,  0.  0.  0.]\n",
      " ..., \n",
      " [ 0.  0.  0. ...,  0.  0.  0.]\n",
      " [ 0.  0.  0. ...,  0.  0.  0.]\n",
      " [ 0.  0.  0. ...,  0.  0.  0.]]\n",
      "2.68033812324\n"
     ]
    }
   ],
   "source": [
    "trueResult = convertToSubmittable(list(df[\"Category\"]))\n",
    "print(trueResult)\n",
    "log_loss = metrics.log_loss(trueResult,naive_classifier)\n",
    "print(log_loss)"
   ]
  },
  {
   "cell_type": "code",
   "execution_count": null,
   "metadata": {
    "collapsed": true
   },
   "outputs": [],
   "source": []
  }
 ],
 "metadata": {
  "kernelspec": {
   "display_name": "Python 3",
   "language": "python",
   "name": "python3"
  },
  "language_info": {
   "codemirror_mode": {
    "name": "ipython",
    "version": 3
   },
   "file_extension": ".py",
   "mimetype": "text/x-python",
   "name": "python",
   "nbconvert_exporter": "python",
   "pygments_lexer": "ipython3",
   "version": "3.4.3"
  }
 },
 "nbformat": 4,
 "nbformat_minor": 0
}
