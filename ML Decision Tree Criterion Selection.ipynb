{
 "cells": [
  {
   "cell_type": "code",
   "execution_count": 2,
   "metadata": {
    "collapsed": true
   },
   "outputs": [],
   "source": [
    "#import libraries\n",
    "import numpy as np\n",
    "import scipy as scp\n",
    "import matplotlib as mpl\n",
    "import matplotlib.pyplot as plt\n",
    "import pandas\n",
    "from pandas import DataFrame\n",
    "import gzip\n",
    "import re\n",
    "import pydot\n",
    "from sklearn.externals.six import StringIO\n",
    "from sklearn import tree\n",
    "from sklearn import cross_validation\n",
    "from sklearn import metrics\n",
    "from sklearn import calibration\n",
    "\n",
    "%matplotlib inline\n"
   ]
  },
  {
   "cell_type": "code",
   "execution_count": 3,
   "metadata": {
    "collapsed": false
   },
   "outputs": [],
   "source": [
    "train_data_frame = pandas.read_csv(\"data/train.csv\", sep=\",\", quotechar='\"')\n",
    "test = pandas.read_csv(\"data/test.csv\", sep=\",\", quotechar='\"')\n",
    "\n",
    "# Extract year, day and hour from timestamp and create \"Year\", \"Month\", \"Hour\" columns in train_data_frame\n",
    "\n",
    "def parse_date(date):\n",
    "    \"\"\"\n",
    "    maps date formatted as in training set as a list of [Year, Month, Hour]\n",
    "    :param date: date as formatted in training set\n",
    "    :retuap oject that can extract of Year, Month and Hour\n",
    "    \"\"\"\n",
    "    mo=re.search(r'^([0-9]{4})-([0-9]{2})-[0-9]{2}\\s+([0-9]{2}):[0-9]{2}:[0-9]{2}$',date)\n",
    "    timelist = map(int,(mo.group(1),mo.group(2),mo.group(3)))\n",
    "    return map(int,(mo.group(1),mo.group(2),mo.group(3)))\n",
    "\n",
    "# Extract 'Year', 'Month' and 'Hour' columns for later use\n",
    "train_data_frame['Year'],train_data_frame['Month'],train_data_frame['Hour'] = zip(*train_data_frame.loc[:,'Dates'].map(parse_date))\n",
    "test['Year'],test['Month'],test['Hour'] = zip(*test.loc[:,'Dates'].map(parse_date))\n",
    "\n",
    "# Clean data : supress data outliers from dataframe\n",
    "train_data_frame_ret = train_data_frame[train_data_frame.Y < 38]"
   ]
  },
  {
   "cell_type": "code",
   "execution_count": 3,
   "metadata": {
    "collapsed": false
   },
   "outputs": [],
   "source": [
    "def convertToSubmittable(prediction):\n",
    "    \"\"\"\n",
    "    Transforms a column of predictions as a number associated to a Crime Category (between 0 and 38)\n",
    "    into a dataframe filled with 0s except 1 coding the predicted Crime Category in the corresponding column\n",
    "    :param prediction: 1 dimensional ndarray with values in [0:38]\n",
    "    :return submittable: 2 dimensional ndarray with {columns : Crime Categories, rows : Predictions}\n",
    "    \"\"\"\n",
    "    submittable = np.zeros((len(prediction),len(crimeCategoryList)))\n",
    "    for i in range(len(prediction)):\n",
    "        submittable[i][prediction[i]] = 1\n",
    "    return submittable\n",
    "\n",
    "    \n",
    "def prepend(filename, line):\n",
    "    \"\"\"\n",
    "    adds line to first column of first row of csv filename\n",
    "    :type filename: String\n",
    "    :type line: String\n",
    "    :param filename: path to csv file\n",
    "    :param line: String to be added\n",
    "    \"\"\"\n",
    "    # r+ allows file to be read and written\n",
    "    with open(filename, 'r+') as f:\n",
    "        content = f.read()\n",
    "        f.seek(0, 0)\n",
    "        f.write(line.rstrip('\\r\\n')+ content)\n",
    "        \n",
    "def tocsv(submission,filename):\n",
    "    \"\"\"\n",
    "    converts 2d dataframe or ndarray to csv file named filename\n",
    "    :type submission: ndarray\n",
    "    :param submision:that contains probabilities of belonging to various Crime Categories\n",
    "    :param filename: path to csv file \n",
    "    \"\"\"\n",
    "    keys = np.unique(train_data_frame[\"Category\"])\n",
    "    DataFrame(dict(zip(keys, submission.T))).to_csv(filename)\n",
    "\n",
    "\n",
    "def gzipcompress(filename):\n",
    "    \"\"\"\n",
    "    compresses csv to gzip in same folder \n",
    "    :param filename: path to csv file\n",
    "    \"\"\"\n",
    "    with open(filename, 'rb') as f_in:\n",
    "        with gzip.open(filename[:-3]+\"gz\", 'wb') as f_out:\n",
    "            f_out.writelines(f_in)"
   ]
  },
  {
   "cell_type": "markdown",
   "metadata": {},
   "source": [
    "# Criterion Selection"
   ]
  },
  {
   "cell_type": "markdown",
   "metadata": {},
   "source": [
    "<p><b>Compute logloss for various min_sample_split </b></p>\n",
    "<p>criterion : gini </p>\n",
    "<p>features : Hour as int, PdDistrict as dummy</p>\n",
    "<p>calibration : False</p>"
   ]
  },
  {
   "cell_type": "code",
   "execution_count": 5,
   "metadata": {
    "collapsed": false
   },
   "outputs": [
    {
     "name": "stdout",
     "output_type": "stream",
     "text": [
      "10 [-2.6156463894961961]\n",
      "1010 [-2.6156463894961961, -2.6152868471496418]\n",
      "2010 [-2.6156463894961961, -2.6152868471496418, -2.6134158510707559]\n",
      "3010 [-2.6156463894961961, -2.6152868471496418, -2.6134158510707559, -2.6115042562600239]\n",
      "4010 [-2.6156463894961961, -2.6152868471496418, -2.6134158510707559, -2.6115042562600239, -2.6093668278269946]\n",
      "5010 [-2.6156463894961961, -2.6152868471496418, -2.6134158510707559, -2.6115042562600239, -2.6093668278269946, -2.6069010316185941]\n",
      "6010 [-2.6156463894961961, -2.6152868471496418, -2.6134158510707559, -2.6115042562600239, -2.6093668278269946, -2.6069010316185941, -2.6050278338437471]\n",
      "7010 [-2.6156463894961961, -2.6152868471496418, -2.6134158510707559, -2.6115042562600239, -2.6093668278269946, -2.6069010316185941, -2.6050278338437471, -2.6030739374895724]\n",
      "8010 [-2.6156463894961961, -2.6152868471496418, -2.6134158510707559, -2.6115042562600239, -2.6093668278269946, -2.6069010316185941, -2.6050278338437471, -2.6030739374895724, -2.6012808404327217]\n",
      "9010 [-2.6156463894961961, -2.6152868471496418, -2.6134158510707559, -2.6115042562600239, -2.6093668278269946, -2.6069010316185941, -2.6050278338437471, -2.6030739374895724, -2.6012808404327217, -2.5996107866824345]\n",
      "10010 [-2.6156463894961961, -2.6152868471496418, -2.6134158510707559, -2.6115042562600239, -2.6093668278269946, -2.6069010316185941, -2.6050278338437471, -2.6030739374895724, -2.6012808404327217, -2.5996107866824345, -2.5987751656724116]\n",
      "11010 [-2.6156463894961961, -2.6152868471496418, -2.6134158510707559, -2.6115042562600239, -2.6093668278269946, -2.6069010316185941, -2.6050278338437471, -2.6030739374895724, -2.6012808404327217, -2.5996107866824345, -2.5987751656724116, -2.5975890846317178]\n",
      "12010 [-2.6156463894961961, -2.6152868471496418, -2.6134158510707559, -2.6115042562600239, -2.6093668278269946, -2.6069010316185941, -2.6050278338437471, -2.6030739374895724, -2.6012808404327217, -2.5996107866824345, -2.5987751656724116, -2.5975890846317178, -2.5969642193867934]\n",
      "13010 [-2.6156463894961961, -2.6152868471496418, -2.6134158510707559, -2.6115042562600239, -2.6093668278269946, -2.6069010316185941, -2.6050278338437471, -2.6030739374895724, -2.6012808404327217, -2.5996107866824345, -2.5987751656724116, -2.5975890846317178, -2.5969642193867934, -2.5960992030191696]\n",
      "14010 [-2.6156463894961961, -2.6152868471496418, -2.6134158510707559, -2.6115042562600239, -2.6093668278269946, -2.6069010316185941, -2.6050278338437471, -2.6030739374895724, -2.6012808404327217, -2.5996107866824345, -2.5987751656724116, -2.5975890846317178, -2.5969642193867934, -2.5960992030191696, -2.5949636979379163]\n",
      "15010 [-2.6156463894961961, -2.6152868471496418, -2.6134158510707559, -2.6115042562600239, -2.6093668278269946, -2.6069010316185941, -2.6050278338437471, -2.6030739374895724, -2.6012808404327217, -2.5996107866824345, -2.5987751656724116, -2.5975890846317178, -2.5969642193867934, -2.5960992030191696, -2.5949636979379163, -2.5946004277940391]\n",
      "16010 [-2.6156463894961961, -2.6152868471496418, -2.6134158510707559, -2.6115042562600239, -2.6093668278269946, -2.6069010316185941, -2.6050278338437471, -2.6030739374895724, -2.6012808404327217, -2.5996107866824345, -2.5987751656724116, -2.5975890846317178, -2.5969642193867934, -2.5960992030191696, -2.5949636979379163, -2.5946004277940391, -2.594292664975959]\n",
      "17010 [-2.6156463894961961, -2.6152868471496418, -2.6134158510707559, -2.6115042562600239, -2.6093668278269946, -2.6069010316185941, -2.6050278338437471, -2.6030739374895724, -2.6012808404327217, -2.5996107866824345, -2.5987751656724116, -2.5975890846317178, -2.5969642193867934, -2.5960992030191696, -2.5949636979379163, -2.5946004277940391, -2.594292664975959, -2.5942820738839805]\n",
      "18010 [-2.6156463894961961, -2.6152868471496418, -2.6134158510707559, -2.6115042562600239, -2.6093668278269946, -2.6069010316185941, -2.6050278338437471, -2.6030739374895724, -2.6012808404327217, -2.5996107866824345, -2.5987751656724116, -2.5975890846317178, -2.5969642193867934, -2.5960992030191696, -2.5949636979379163, -2.5946004277940391, -2.594292664975959, -2.5942820738839805, -2.5941686923751712]\n",
      "19010 [-2.6156463894961961, -2.6152868471496418, -2.6134158510707559, -2.6115042562600239, -2.6093668278269946, -2.6069010316185941, -2.6050278338437471, -2.6030739374895724, -2.6012808404327217, -2.5996107866824345, -2.5987751656724116, -2.5975890846317178, -2.5969642193867934, -2.5960992030191696, -2.5949636979379163, -2.5946004277940391, -2.594292664975959, -2.5942820738839805, -2.5941686923751712, -2.5940771821211479]\n",
      "20010 [-2.6156463894961961, -2.6152868471496418, -2.6134158510707559, -2.6115042562600239, -2.6093668278269946, -2.6069010316185941, -2.6050278338437471, -2.6030739374895724, -2.6012808404327217, -2.5996107866824345, -2.5987751656724116, -2.5975890846317178, -2.5969642193867934, -2.5960992030191696, -2.5949636979379163, -2.5946004277940391, -2.594292664975959, -2.5942820738839805, -2.5941686923751712, -2.5940771821211479, -2.5939089482103577]\n"
     ]
    }
   ],
   "source": [
    "#computes cross validation\n",
    "\n",
    "df=pandas.get_dummies(train_data_frame_ret[[\"Hour\",\"PdDistrict\"]])\n",
    "\n",
    "scores = []\n",
    "params = []\n",
    "for k in range(10, 20100, 1000):\n",
    "    treeClassifier = tree.DecisionTreeClassifier(min_samples_split=k, criterion=\"gini\")\n",
    "    score = cross_validation.cross_val_score(treeClassifier, df,\n",
    "                                             np.ravel(train_data_frame_ret[[\"Category\"]]),\n",
    "                                             cv=5, scoring='log_loss')\n",
    "    scores += [score.mean()]\n",
    "    params += [k]\n",
    "    print(k, scores)"
   ]
  },
  {
   "cell_type": "markdown",
   "metadata": {},
   "source": [
    "<p><b>Compute logloss for various min_sample_split </b></p>\n",
    "<p>criterion : entropy </p>\n",
    "<p>features : Hour as int, PdDistrict as dummy</p>\n",
    "<p>calibration : False</p>"
   ]
  },
  {
   "cell_type": "code",
   "execution_count": 6,
   "metadata": {
    "collapsed": false
   },
   "outputs": [
    {
     "name": "stdout",
     "output_type": "stream",
     "text": [
      "10 [-2.6156463894961961]\n",
      "1010 [-2.6156463894961961, -2.6153119977272463]\n",
      "2010 [-2.6156463894961961, -2.6153119977272463, -2.6141176473905121]\n",
      "3010 [-2.6156463894961961, -2.6153119977272463, -2.6141176473905121, -2.6116286045200812]\n",
      "4010 [-2.6156463894961961, -2.6153119977272463, -2.6141176473905121, -2.6116286045200812, -2.6091501875338698]\n",
      "5010 [-2.6156463894961961, -2.6153119977272463, -2.6141176473905121, -2.6116286045200812, -2.6091501875338698, -2.6068123251688085]\n",
      "6010 [-2.6156463894961961, -2.6153119977272463, -2.6141176473905121, -2.6116286045200812, -2.6091501875338698, -2.6068123251688085, -2.6047501103255422]\n",
      "7010 [-2.6156463894961961, -2.6153119977272463, -2.6141176473905121, -2.6116286045200812, -2.6091501875338698, -2.6068123251688085, -2.6047501103255422, -2.6030328517439489]\n",
      "8010 [-2.6156463894961961, -2.6153119977272463, -2.6141176473905121, -2.6116286045200812, -2.6091501875338698, -2.6068123251688085, -2.6047501103255422, -2.6030328517439489, -2.6005520796293458]\n",
      "9010 [-2.6156463894961961, -2.6153119977272463, -2.6141176473905121, -2.6116286045200812, -2.6091501875338698, -2.6068123251688085, -2.6047501103255422, -2.6030328517439489, -2.6005520796293458, -2.5988802417660777]\n",
      "10010 [-2.6156463894961961, -2.6153119977272463, -2.6141176473905121, -2.6116286045200812, -2.6091501875338698, -2.6068123251688085, -2.6047501103255422, -2.6030328517439489, -2.6005520796293458, -2.5988802417660777, -2.5979872789735241]\n",
      "11010 [-2.6156463894961961, -2.6153119977272463, -2.6141176473905121, -2.6116286045200812, -2.6091501875338698, -2.6068123251688085, -2.6047501103255422, -2.6030328517439489, -2.6005520796293458, -2.5988802417660777, -2.5979872789735241, -2.5971186623510731]\n",
      "12010 [-2.6156463894961961, -2.6153119977272463, -2.6141176473905121, -2.6116286045200812, -2.6091501875338698, -2.6068123251688085, -2.6047501103255422, -2.6030328517439489, -2.6005520796293458, -2.5988802417660777, -2.5979872789735241, -2.5971186623510731, -2.5957458426721902]\n",
      "13010 [-2.6156463894961961, -2.6153119977272463, -2.6141176473905121, -2.6116286045200812, -2.6091501875338698, -2.6068123251688085, -2.6047501103255422, -2.6030328517439489, -2.6005520796293458, -2.5988802417660777, -2.5979872789735241, -2.5971186623510731, -2.5957458426721902, -2.5951366033181493]\n",
      "14010 [-2.6156463894961961, -2.6153119977272463, -2.6141176473905121, -2.6116286045200812, -2.6091501875338698, -2.6068123251688085, -2.6047501103255422, -2.6030328517439489, -2.6005520796293458, -2.5988802417660777, -2.5979872789735241, -2.5971186623510731, -2.5957458426721902, -2.5951366033181493, -2.5943185506523903]\n",
      "15010 [-2.6156463894961961, -2.6153119977272463, -2.6141176473905121, -2.6116286045200812, -2.6091501875338698, -2.6068123251688085, -2.6047501103255422, -2.6030328517439489, -2.6005520796293458, -2.5988802417660777, -2.5979872789735241, -2.5971186623510731, -2.5957458426721902, -2.5951366033181493, -2.5943185506523903, -2.5940794405630232]\n",
      "16010 [-2.6156463894961961, -2.6153119977272463, -2.6141176473905121, -2.6116286045200812, -2.6091501875338698, -2.6068123251688085, -2.6047501103255422, -2.6030328517439489, -2.6005520796293458, -2.5988802417660777, -2.5979872789735241, -2.5971186623510731, -2.5957458426721902, -2.5951366033181493, -2.5943185506523903, -2.5940794405630232, -2.5937180303324783]\n",
      "17010 [-2.6156463894961961, -2.6153119977272463, -2.6141176473905121, -2.6116286045200812, -2.6091501875338698, -2.6068123251688085, -2.6047501103255422, -2.6030328517439489, -2.6005520796293458, -2.5988802417660777, -2.5979872789735241, -2.5971186623510731, -2.5957458426721902, -2.5951366033181493, -2.5943185506523903, -2.5940794405630232, -2.5937180303324783, -2.5939201155584866]\n",
      "18010 [-2.6156463894961961, -2.6153119977272463, -2.6141176473905121, -2.6116286045200812, -2.6091501875338698, -2.6068123251688085, -2.6047501103255422, -2.6030328517439489, -2.6005520796293458, -2.5988802417660777, -2.5979872789735241, -2.5971186623510731, -2.5957458426721902, -2.5951366033181493, -2.5943185506523903, -2.5940794405630232, -2.5937180303324783, -2.5939201155584866, -2.5940867711673357]\n",
      "19010 [-2.6156463894961961, -2.6153119977272463, -2.6141176473905121, -2.6116286045200812, -2.6091501875338698, -2.6068123251688085, -2.6047501103255422, -2.6030328517439489, -2.6005520796293458, -2.5988802417660777, -2.5979872789735241, -2.5971186623510731, -2.5957458426721902, -2.5951366033181493, -2.5943185506523903, -2.5940794405630232, -2.5937180303324783, -2.5939201155584866, -2.5940867711673357, -2.5940677859231429]\n",
      "20010 [-2.6156463894961961, -2.6153119977272463, -2.6141176473905121, -2.6116286045200812, -2.6091501875338698, -2.6068123251688085, -2.6047501103255422, -2.6030328517439489, -2.6005520796293458, -2.5988802417660777, -2.5979872789735241, -2.5971186623510731, -2.5957458426721902, -2.5951366033181493, -2.5943185506523903, -2.5940794405630232, -2.5937180303324783, -2.5939201155584866, -2.5940867711673357, -2.5940677859231429, -2.5938830458002768]\n"
     ]
    }
   ],
   "source": [
    "df=pandas.get_dummies(train_data_frame_ret[[\"Hour\",\"PdDistrict\"]])\n",
    "\n",
    "scores = []\n",
    "params = []\n",
    "for k in range(10, 20100, 1000):\n",
    "    treeClassifier = tree.DecisionTreeClassifier(min_samples_split=k, criterion=\"entropy\")\n",
    "    score = cross_validation.cross_val_score(treeClassifier, df,\n",
    "                                             np.ravel(train_data_frame_ret[[\"Category\"]]),\n",
    "                                             cv=5, scoring='log_loss')\n",
    "    scores += [score.mean()]\n",
    "    params += [k]\n",
    "    print(k, scores)"
   ]
  },
  {
   "cell_type": "markdown",
   "metadata": {},
   "source": [
    "# Submission 4"
   ]
  },
  {
   "cell_type": "code",
   "execution_count": null,
   "metadata": {
    "collapsed": true
   },
   "outputs": [],
   "source": [
    "# Decision Tree Classifier : http://machinelearningmastery.com/get-your-hands-dirty-with-scikit-learn-now/\n",
    "\n",
    "treeClassifier = tree.DecisionTreeClassifier(min_samples_leaf =22000, criterion=\"entropy\")\n",
    "df=pandas.get_dummies(train_data_frame_ret[[\"Hour\",\"PdDistrict\"]], columns = train_data_frame_ret[[\"Hour\",\"PdDistrict\"]])\n",
    "\n",
    "treeClassifier = tree.DecisionTreeClassifier(min_samples_split=k)\n",
    "calibrator = calibration.CalibratedClassifierCV(treeClassifier)\n",
    "\n",
    "trainedModel = calibrator.fit(df , train_data_frame_ret[\"Category\"])\n",
    "dftest=pandas.get_dummies(test[[\"Hour\",\"PdDistrict\"]], columns = train_data_frame_ret[[\"Hour\",\"PdDistrict\"]])\n",
    "prediction2 = trainedModel.predict_proba(dftest)\n",
    "print(prediction2)\n",
    "print(len(prediction2))\n",
    "\n",
    "tocsv(prediction2,\"data\\\\Results\\\\decisiontree_v4.csv\")\n",
    "print(type(prediction2))\n",
    "prepend(\"data\\\\Results\\\\decisiontree_v4.csv\",\"Id\")\n",
    "gzipcompress(\"data\\\\Results\\\\decisiontree_v4.csv\")\n",
    "\n"
   ]
  },
  {
   "cell_type": "markdown",
   "metadata": {},
   "source": [
    "# Submission 5"
   ]
  },
  {
   "cell_type": "code",
   "execution_count": null,
   "metadata": {
    "collapsed": false,
    "scrolled": false
   },
   "outputs": [],
   "source": [
    "# Decision Tree Classifier : http://machinelearningmastery.com/get-your-hands-dirty-with-scikit-learn-now/\n",
    "\n",
    "treeClassifier = tree.DecisionTreeClassifier(min_samples_leaf = 4000)\n",
    "#df=pandas.get_dummies(train_data_frame_ret[[\"Hour\",\"PdDistrict\"]])\n",
    "\n",
    "\n",
    "trainedModel = treeClassifier.fit(df, train_data_frame_ret[\"Category\"])\n",
    "dftest=pandas.get_dummies(test[[\"PdDistrict\",\"Hour\"]])\n",
    "prediction2 = trainedModel.predict_proba(dftest)\n",
    "print(prediction2)\n",
    "print(len(prediction2))\n",
    "\n",
    "tocsv(prediction2,\"data\\\\Results\\\\decisiontree_v5.csv\")\n",
    "prepend(\"data\\\\Results\\\\decisiontree_v5.csv\",\"Id\")\n",
    "gzipcompress(\"data\\\\Results\\\\decisiontree_v5.csv\")"
   ]
  },
  {
   "cell_type": "code",
   "execution_count": 9,
   "metadata": {
    "collapsed": false
   },
   "outputs": [
    {
     "name": "stdout",
     "output_type": "stream",
     "text": [
      "[-2.6702004339404866, -2.6674759781271518, -2.6845525979493092, -2.690324566573735, -2.6890074116463301, -2.6864714294509424, -2.6909010400894848, -2.693506505879748, -2.7001999398471672, -2.7007137516044226, -2.699989305099213, -2.6900137630307217]\n"
     ]
    },
    {
     "data": {
      "image/png": "[encoded data removed]",
      "text/plain": [
       "<matplotlib.figure.Figure at 0xaaf2208>"
      ]
     },
     "metadata": {},
     "output_type": "display_data"
    }
   ],
   "source": [
    "plt.scatter(params1,scores1)\n",
    "plt.title('Decision Tree on District Hour Year Month (dummy)')\n",
    "plt.legend([\"logloss\"])\n",
    "plt.xlabel(\"min_sample_leaf\")\n",
    "print(scores)\n",
    "#plt.savefig(\"graphs\\\\loglosscurves\\\\PdDistrictHourMonthYearDummyEntropy.pdf\")"
   ]
  },
  {
   "cell_type": "markdown",
   "metadata": {},
   "source": [
    "## Tree Visualization"
   ]
  },
  {
   "cell_type": "code",
   "execution_count": 7,
   "metadata": {
    "collapsed": false
   },
   "outputs": [],
   "source": [
    "# allows data visualization by exporting tree to pdf format\n",
    "for k in range(1,800000,100000):\n",
    "    treeClassifier = tree.DecisionTreeClassifier(min_samples_split=k)\n",
    "    treeClassifier.fit(df, train_data_frame_ret.Category)\n",
    "    dot_data = StringIO() \n",
    "    tree.export_graphviz(treeClassifier, out_file=dot_data, feature_names=df.columns)\n",
    "    graph = pydot.graph_from_dot_data(dot_data.getvalue()) \n",
    "    graph.write_pdf(\"graphs\\\\treev3splitPdDistricHour\"+str(k)+\".pdf\")\n"
   ]
  }
 ],
 "metadata": {
  "kernelspec": {
   "display_name": "Python 3",
   "language": "python",
   "name": "python3"
  },
  "language_info": {
   "codemirror_mode": {
    "name": "ipython",
    "version": 3
   },
   "file_extension": ".py",
   "mimetype": "text/x-python",
   "name": "python",
   "nbconvert_exporter": "python",
   "pygments_lexer": "ipython3",
   "version": "3.4.3"
  }
 },
 "nbformat": 4,
 "nbformat_minor": 0
}
