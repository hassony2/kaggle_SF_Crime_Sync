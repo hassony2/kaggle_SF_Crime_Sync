{
 "cells": [
  {
   "cell_type": "code",
   "execution_count": 1,
   "metadata": {
    "collapsed": false
   },
   "outputs": [],
   "source": [
    "#import libraries\n",
    "import numpy as np\n",
    "import scipy as scp\n",
    "import matplotlib as mpl\n",
    "from sklearn import tree\n",
    "from sklearn import cross_validation\n",
    "from sklearn import metrics\n",
    "from sklearn import calibration\n",
    "import matplotlib.pyplot as plt\n",
    "import pandas\n",
    "from pandas import DataFrame\n",
    "import gzip\n",
    "import re\n",
    "from sklearn.externals.six import StringIO\n",
    "%matplotlib inline"
   ]
  },
  {
   "cell_type": "code",
   "execution_count": 3,
   "metadata": {
    "collapsed": false
   },
   "outputs": [
    {
     "name": "stderr",
     "output_type": "stream",
     "text": [
      "D:\\programmation\\logiciel\\anaconda\\lib\\site-packages\\pandas\\core\\generic.py:2790: SettingWithCopyWarning: \n",
      "A value is trying to be set on a copy of a slice from a DataFrame.\n",
      "Try using .loc[row_indexer,col_indexer] = value instead\n",
      "\n",
      "See the the caveats in the documentation: http://pandas.pydata.org/pandas-docs/stable/indexing.html#indexing-view-versus-copy\n",
      "  regex=regex)\n"
     ]
    }
   ],
   "source": [
    "train_data_frame = pandas.read_csv(\"data\\\\train.csv\", sep=\",\", quotechar='\"')\n",
    "test = pandas.read_csv(\"data\\\\test.csv\", sep=\",\", quotechar='\"')\n",
    "\n",
    "# Extract year, day and hour and create \"Year\", \"Month\", \"Hour\" columns in train_data_frame\n",
    "\n",
    "def parse_date(date):\n",
    "    \"\"\"\n",
    "    maps date formatted as in training set as a list of [Year, Month, Hour]\n",
    "    :param date: date as formatted in training set\n",
    "    :retuap oject that can extract of Year, Month and Hour\n",
    "    \"\"\"\n",
    "    mo=re.search(r'^([0-9]{4})-([0-9]{2})-[0-9]{2}\\s+([0-9]{2}):[0-9]{2}:[0-9]{2}$',date)\n",
    "    timelist = map(int,(mo.group(1),mo.group(2),mo.group(3)))\n",
    "    return map(int,(mo.group(1),mo.group(2),mo.group(3)))\n",
    "\n",
    "# Extract 'Year', 'Month' and 'Hour' columns for later use\n",
    "train_data_frame['Year'],train_data_frame['Month'],train_data_frame['Hour'] = zip(*train_data_frame.loc[:,'Dates'].map(parse_date))\n",
    "test['Year'],test['Month'],test['Hour'] = zip(*test.loc[:,'Dates'].map(parse_date))\n",
    "\n",
    "# Clean date : supress data outliers from dataframe\n",
    "train_data_frame_ret = train_data_frame[train_data_frame.Y < 38]\n",
    "#train_data_frame_ret.shape\n",
    "\n",
    "# Create dictionnary for days of week with index as key\n",
    "dayOfWeekList = np.unique(train_data_frame_ret.DayOfWeek)\n",
    "indexDayList = list(range(len(dayOfWeekList)))\n",
    "dayOfWeekDict = dict(zip(dayOfWeekList, indexDayList))\n",
    "\n",
    "# Create dictionnary for days of week with index as key\n",
    "districtList = np.unique(train_data_frame_ret.PdDistrict)\n",
    "indexDistrictList = list(range(len(districtList)))\n",
    "districtDict = dict(zip(districtList, indexDistrictList))\n",
    "\n",
    "train_data_frame_ret.replace({\"DayOfWeek\": dayOfWeekDict}, inplace = True)\n",
    "# train_data_frame_ret.replace({\"PdDistrict\": districtDict}, inplace = True)"
   ]
  },
  {
   "cell_type": "code",
   "execution_count": 4,
   "metadata": {
    "collapsed": true
   },
   "outputs": [],
   "source": [
    "def convertToSubmittable(prediction):\n",
    "    \"\"\"\n",
    "    Transforms a column of predictions as a number associated to a Crime Category (between 0 and 38)\n",
    "    into a dataframe filled with 0s except 1 coding the predicted Crime Category in the corresponding column\n",
    "    :param prediction: 1 dimensional ndarray with values in [0:38]\n",
    "    :return submittable: 2 dimensional ndarray with {columns : Crime Categories, rows : Predictions}\n",
    "    \"\"\"\n",
    "    submittable = np.zeros((len(prediction),len(crimeCategoryList)))\n",
    "    for i in range(len(prediction)):\n",
    "        submittable[i][prediction[i]] = 1\n",
    "    return submittable\n",
    "\n",
    "    \n",
    "def prepend(filename, line):\n",
    "    \"\"\"\n",
    "    adds line to first column of first row of csv filename\n",
    "    :type filename: String\n",
    "    :type line: String\n",
    "    :param filename: path to csv file\n",
    "    :param line: String to be added\n",
    "    \"\"\"\n",
    "    # r+ allows file to be read and written\n",
    "    with open(filename, 'r+') as f:\n",
    "        content = f.read()\n",
    "        f.seek(0, 0)\n",
    "        f.write(line.rstrip('\\r\\n')+ content)\n",
    "        \n",
    "def tocsv(submission,filename):\n",
    "    \"\"\"\n",
    "    converts 2d dataframe or ndarray to csv file named filename\n",
    "    :type submission: ndarray\n",
    "    :param submision:that contains probabilities of belonging to various Crime Categories\n",
    "    :param filename: path to csv file \n",
    "    \"\"\"\n",
    "    keys = np.unique(train_data_frame[\"Category\"])\n",
    "    DataFrame(dict(zip(keys, submission.T))).to_csv(filename)\n",
    "\n",
    "\n",
    "def gzipcompress(filename):\n",
    "    \"\"\"\n",
    "    compresses csv to gzip in same folder \n",
    "    :param filename: path to csv file\n",
    "    \"\"\"\n",
    "    with open(filename, 'rb') as f_in:\n",
    "        with gzip.open(filename[:-3]+\"gz\", 'wb') as f_out:\n",
    "            f_out.writelines(f_in)"
   ]
  },
  {
   "cell_type": "code",
   "execution_count": 18,
   "metadata": {
    "collapsed": false
   },
   "outputs": [
    {
     "data": {
      "text/html": [
       "<div>\n",
       "<table border=\"1\" class=\"dataframe\">\n",
       "  <thead>\n",
       "    <tr style=\"text-align: right;\">\n",
       "      <th></th>\n",
       "      <th>DayOfWeek</th>\n",
       "      <th>X</th>\n",
       "      <th>Y</th>\n",
       "      <th>Year</th>\n",
       "      <th>Month</th>\n",
       "      <th>Hour</th>\n",
       "    </tr>\n",
       "  </thead>\n",
       "  <tbody>\n",
       "    <tr>\n",
       "      <th>count</th>\n",
       "      <td>877982.000000</td>\n",
       "      <td>877982.000000</td>\n",
       "      <td>877982.000000</td>\n",
       "      <td>877982.000000</td>\n",
       "      <td>877982.000000</td>\n",
       "      <td>877982.000000</td>\n",
       "    </tr>\n",
       "    <tr>\n",
       "      <th>mean</th>\n",
       "      <td>2.990223</td>\n",
       "      <td>-122.422763</td>\n",
       "      <td>37.767035</td>\n",
       "      <td>2008.712378</td>\n",
       "      <td>6.436416</td>\n",
       "      <td>13.412737</td>\n",
       "    </tr>\n",
       "    <tr>\n",
       "      <th>std</th>\n",
       "      <td>2.026094</td>\n",
       "      <td>0.025285</td>\n",
       "      <td>0.024165</td>\n",
       "      <td>3.631126</td>\n",
       "      <td>3.428998</td>\n",
       "      <td>6.549521</td>\n",
       "    </tr>\n",
       "    <tr>\n",
       "      <th>min</th>\n",
       "      <td>0.000000</td>\n",
       "      <td>-122.513642</td>\n",
       "      <td>37.707879</td>\n",
       "      <td>2003.000000</td>\n",
       "      <td>1.000000</td>\n",
       "      <td>0.000000</td>\n",
       "    </tr>\n",
       "    <tr>\n",
       "      <th>25%</th>\n",
       "      <td>1.000000</td>\n",
       "      <td>-122.432952</td>\n",
       "      <td>37.752427</td>\n",
       "      <td>2006.000000</td>\n",
       "      <td>3.000000</td>\n",
       "      <td>9.000000</td>\n",
       "    </tr>\n",
       "    <tr>\n",
       "      <th>50%</th>\n",
       "      <td>3.000000</td>\n",
       "      <td>-122.416420</td>\n",
       "      <td>37.775421</td>\n",
       "      <td>2009.000000</td>\n",
       "      <td>6.000000</td>\n",
       "      <td>14.000000</td>\n",
       "    </tr>\n",
       "    <tr>\n",
       "      <th>75%</th>\n",
       "      <td>5.000000</td>\n",
       "      <td>-122.406959</td>\n",
       "      <td>37.784368</td>\n",
       "      <td>2012.000000</td>\n",
       "      <td>9.000000</td>\n",
       "      <td>19.000000</td>\n",
       "    </tr>\n",
       "    <tr>\n",
       "      <th>max</th>\n",
       "      <td>6.000000</td>\n",
       "      <td>-122.364937</td>\n",
       "      <td>37.819975</td>\n",
       "      <td>2015.000000</td>\n",
       "      <td>12.000000</td>\n",
       "      <td>23.000000</td>\n",
       "    </tr>\n",
       "  </tbody>\n",
       "</table>\n",
       "</div>"
      ],
      "text/plain": [
       "           DayOfWeek              X              Y           Year  \\\n",
       "count  877982.000000  877982.000000  877982.000000  877982.000000   \n",
       "mean        2.990223    -122.422763      37.767035    2008.712378   \n",
       "std         2.026094       0.025285       0.024165       3.631126   \n",
       "min         0.000000    -122.513642      37.707879    2003.000000   \n",
       "25%         1.000000    -122.432952      37.752427    2006.000000   \n",
       "50%         3.000000    -122.416420      37.775421    2009.000000   \n",
       "75%         5.000000    -122.406959      37.784368    2012.000000   \n",
       "max         6.000000    -122.364937      37.819975    2015.000000   \n",
       "\n",
       "               Month           Hour  \n",
       "count  877982.000000  877982.000000  \n",
       "mean        6.436416      13.412737  \n",
       "std         3.428998       6.549521  \n",
       "min         1.000000       0.000000  \n",
       "25%         3.000000       9.000000  \n",
       "50%         6.000000      14.000000  \n",
       "75%         9.000000      19.000000  \n",
       "max        12.000000      23.000000  "
      ]
     },
     "execution_count": 18,
     "metadata": {},
     "output_type": "execute_result"
    }
   ],
   "source": [
    "train_data_frame_ret.describe()"
   ]
  },
  {
   "cell_type": "markdown",
   "metadata": {},
   "source": [
    "**Create a maximum size decision tree model**\n",
    "\n",
    "features : Hour, PdDistrict, Month, Year and DayOfWeek\n",
    "\n",
    "criterion : entropy"
   ]
  },
  {
   "cell_type": "code",
   "execution_count": null,
   "metadata": {
    "collapsed": false
   },
   "outputs": [],
   "source": [
    "df=pandas.get_dummies(train_data_frame_ret[[\"Hour\",\"PdDistrict\",\"Month\",\"Year\",\"DayOfWeek\"]])\n",
    "print(\"dummies created !\")\n",
    "\n",
    "treeClassifier = tree.DecisionTreeClassifier(min_samples_split=1, criterion=\"entropy\")\n",
    "treeClassifier.fit(df,np.ravel(train_data_frame_ret[[\"Category\"]]))"
   ]
  },
  {
   "cell_type": "markdown",
   "metadata": {},
   "source": [
    "**Compute feature importance**"
   ]
  },
  {
   "cell_type": "code",
   "execution_count": 9,
   "metadata": {
    "collapsed": false
   },
   "outputs": [
    {
     "name": "stdout",
     "output_type": "stream",
     "text": [
      "Index(['Hour', 'Month', 'Year', 'DayOfWeek', 'PdDistrict_BAYVIEW',\n",
      "       'PdDistrict_CENTRAL', 'PdDistrict_INGLESIDE', 'PdDistrict_MISSION',\n",
      "       'PdDistrict_NORTHERN', 'PdDistrict_PARK', 'PdDistrict_RICHMOND',\n",
      "       'PdDistrict_SOUTHERN', 'PdDistrict_TARAVAL', 'PdDistrict_TENDERLOIN'],\n",
      "      dtype='object') [ 0.19176748  0.37144943  0.13494443  0.25034721  0.00617428  0.00413198\n",
      "  0.00477434  0.0063097   0.00367454  0.00170108  0.00139294  0.0052901\n",
      "  0.00155421  0.01648829] <sklearn.tree._tree.Tree object at 0x000000000AA51030>\n"
     ]
    }
   ],
   "source": [
    "print(df.columns,treeClassifier.feature_importances_,treeClassifier.tree_)"
   ]
  },
  {
   "cell_type": "markdown",
   "metadata": {},
   "source": [
    "**Create a tree where min_sample_split is limited**\n",
    "\n",
    "features : Hour, Month, PdDistrict, Year, DayOfWeek\n",
    "\n",
    "min_sample_split : 1000\n",
    "\n",
    "criterion : entropy"
   ]
  },
  {
   "cell_type": "code",
   "execution_count": 14,
   "metadata": {
    "collapsed": false
   },
   "outputs": [
    {
     "name": "stdout",
     "output_type": "stream",
     "text": [
      "dummies created !\n",
      "tree fitted 1000\n"
     ]
    }
   ],
   "source": [
    "df=pandas.get_dummies(train_data_frame_ret[[\"Hour\",\"Month\",\"PdDistrict\",\"Year\",\"DayOfWeek\"]])\n",
    "\n",
    "treeClassifier = tree.DecisionTreeClassifier(min_samples_split=1000,\n",
    "                                             criterion=\"entropy\")\n",
    "treeClassifier.fit(df,np.ravel(train_data_frame_ret[[\"Category\"]]))"
   ]
  },
  {
   "cell_type": "markdown",
   "metadata": {},
   "source": [
    "**Infer feature importances**"
   ]
  },
  {
   "cell_type": "code",
   "execution_count": 15,
   "metadata": {
    "collapsed": false
   },
   "outputs": [
    {
     "name": "stdout",
     "output_type": "stream",
     "text": [
      "Index(['Hour', 'Month', 'Year', 'DayOfWeek', 'PdDistrict_BAYVIEW',\n",
      "       'PdDistrict_CENTRAL', 'PdDistrict_INGLESIDE', 'PdDistrict_MISSION',\n",
      "       'PdDistrict_NORTHERN', 'PdDistrict_PARK', 'PdDistrict_RICHMOND',\n",
      "       'PdDistrict_SOUTHERN', 'PdDistrict_TARAVAL', 'PdDistrict_TENDERLOIN'],\n",
      "      dtype='object') [ 0.27211998  0.06482294  0.19912504  0.06810939  0.0497262   0.03173351\n",
      "  0.03814956  0.05105646  0.02895051  0.01152143  0.00351809  0.04280615\n",
      "  0.00494173  0.133419  ] <sklearn.tree._tree.Tree object at 0x000000000AA51030>\n"
     ]
    }
   ],
   "source": [
    "print(df.columns, treeClassifier.feature_importances_, treeClassifier.tree_)"
   ]
  },
  {
   "cell_type": "markdown",
   "metadata": {},
   "source": [
    "## Evolution of feature importances with min_sample_split"
   ]
  },
  {
   "cell_type": "markdown",
   "metadata": {},
   "source": [
    "**Compute feature importances for various min_sample_split**\n",
    "\n",
    "features : X, Y, Hour, Year, Month, DayOfWeek, PdDistrict\n",
    "\n",
    "criterion : entropy"
   ]
  },
  {
   "cell_type": "code",
   "execution_count": 27,
   "metadata": {
    "collapsed": false
   },
   "outputs": [
    {
     "name": "stdout",
     "output_type": "stream",
     "text": [
      "5 [ 0.26366765  0.37196852  0.11979448  0.04772893  0.          0.\n",
      "  0.19684042]\n",
      "15 [ 0.29893681  0.30681342  0.11880525  0.10159854  0.07088091  0.05469953\n",
      "  0.04826553]\n",
      "25 [ 0.17471949  0.1773567   0.156609    0.13936903  0.19256236  0.14714102\n",
      "  0.0122424 ]\n",
      "35 [ 0.16859475  0.17185583  0.15906207  0.1391979   0.19871552  0.15191511\n",
      "  0.01065881]\n",
      "45 [ 0.16889298  0.17195007  0.15911528  0.13940831  0.19779193  0.15228168\n",
      "  0.01055976]\n",
      "55 [ 0.16876011  0.17181752  0.15919254  0.13941448  0.19815171  0.1520592\n",
      "  0.01060443]\n",
      "65 [ 0.16873902  0.17200152  0.15900586  0.13937397  0.19870958  0.15147672\n",
      "  0.01069334]\n",
      "75 [ 0.16846581  0.17188707  0.15884646  0.13938028  0.19846211  0.15238177\n",
      "  0.0105765 ]\n",
      "85 [ 0.16849553  0.1719533   0.15895956  0.13892878  0.19853714  0.15252678\n",
      "  0.01059891]\n",
      "95 [ 0.1690646   0.17190049  0.15949324  0.13916997  0.19806917  0.15175061\n",
      "  0.01055191]\n"
     ]
    }
   ],
   "source": [
    "for i in range(5,100,10):\n",
    "    treeClassifier = tree.DecisionTreeClassifier(max_depth = i)\n",
    "    treeClassifier.fit(train_data_frame_ret[[\"X\",\"Y\",\"Hour\",\"Year\",\"Month\",\"DayOfWeek\",\"PdDistrict\"]],\n",
    "                       train_data_frame_ret.Category)\n",
    "    print(i, treeClassifier.feature_importances_)\n",
    "    treeClassifier.export"
   ]
  },
  {
   "cell_type": "markdown",
   "metadata": {},
   "source": [
    "**Compute feature importances for various min_sample_split**\n",
    "\n",
    "features : X, Y, Hour, Year, Month, DayOfWeek, PdDistrict as Dummy\n",
    "\n",
    "criterion : entropy"
   ]
  },
  {
   "cell_type": "code",
   "execution_count": 36,
   "metadata": {
    "collapsed": false
   },
   "outputs": [
    {
     "name": "stdout",
     "output_type": "stream",
     "text": [
      "5 [ 0.11979448  0.          0.          0.04772893  0.26366765  0.37196852\n",
      "  0.          0.          0.          0.          0.          0.          0.\n",
      "  0.          0.          0.19684042]\n",
      "15 [  1.18512971e-01   5.46754541e-02   7.10303606e-02   1.02438469e-01\n",
      "   2.98354837e-01   3.06109460e-01   1.19253563e-04   6.79598694e-04\n",
      "   2.02627927e-03   1.40682909e-03   8.73004409e-04   1.22401552e-03\n",
      "   2.07334755e-03   7.10283159e-04   1.63436504e-04   3.96024001e-02]\n",
      "25 [ 0.15718548  0.14689882  0.19226618  0.13852346  0.17466444  0.17677614\n",
      "  0.00042757  0.00067943  0.00073478  0.00093186  0.00103542  0.00090624\n",
      "  0.00070371  0.00107265  0.00037338  0.00682044]\n",
      "35 [ 0.1590048   0.15134692  0.19810379  0.1395856   0.16841679  0.17132439\n",
      "  0.00050762  0.00063315  0.00079811  0.00094083  0.00110004  0.00102358\n",
      "  0.00060647  0.0010288   0.00038919  0.00518993]\n",
      "45 [ 0.15906699  0.15169752  0.19800967  0.13914546  0.16803888  0.17157593\n",
      "  0.00051106  0.00062926  0.0008449   0.00096525  0.0011556   0.00104149\n",
      "  0.00059679  0.00110879  0.0004509   0.00516152]\n",
      "55 [ 0.15882474  0.15150081  0.19859823  0.13911567  0.16901282  0.17068698\n",
      "  0.00052838  0.00065761  0.00085013  0.00090668  0.00106124  0.00102214\n",
      "  0.00062113  0.0010358   0.00041621  0.00516145]\n",
      "65 [ 0.15873755  0.15158557  0.19839894  0.13898186  0.16907029  0.17093524\n",
      "  0.00047474  0.00064785  0.00079637  0.00096522  0.00109023  0.00102351\n",
      "  0.00062878  0.00105722  0.00044518  0.00516145]\n",
      "75 [ 0.15897903  0.15158787  0.19820926  0.13950346  0.16854134  0.17083511\n",
      "  0.00047365  0.00065857  0.00088894  0.00091256  0.00109395  0.00099756\n",
      "  0.00060577  0.00113749  0.00041399  0.00516145]\n",
      "85 [ 0.15936481  0.15153351  0.19786423  0.13920621  0.16893904  0.17078138\n",
      "  0.00052695  0.00064866  0.00080371  0.00098785  0.0010854   0.00096518\n",
      "  0.00064309  0.00105312  0.00043541  0.00516145]\n",
      "95 [ 0.15857259  0.15161948  0.19829113  0.13933008  0.16850966  0.17131912\n",
      "  0.00050502  0.00064222  0.00086108  0.00097007  0.00116495  0.00096339\n",
      "  0.00062939  0.00102366  0.00043673  0.00516145]\n"
     ]
    }
   ],
   "source": [
    "df = pandas.get_dummies(train_data_frame_ret[[\"PdDistrict\",\"Hour\",\"DayOfWeek\",\"Month\",\"Year\",\"X\",\"Y\"]],\n",
    "                        columns=train_data_frame_ret[[\"PdDistrict\"]])\n",
    "for i in range(5,100,10):\n",
    "    treeClassifier = tree.DecisionTreeClassifier(max_depth = i)\n",
    "    treeClassifier.fit(df, train_data_frame_ret.Category)\n",
    "    print(i,treeClassifier.feature_importances_)"
   ]
  },
  {
   "cell_type": "markdown",
   "metadata": {},
   "source": [
    "**Compute feature importances for various min_sample_split without location redundancy (X,Y)**\n",
    "\n",
    "features : Hour, Year, Month, DayOfWeek, PdDistrict as Dummy\n",
    "\n",
    "criterion : entropy"
   ]
  },
  {
   "cell_type": "code",
   "execution_count": 37,
   "metadata": {
    "collapsed": false
   },
   "outputs": [
    {
     "name": "stdout",
     "output_type": "stream",
     "text": [
      "5 [ 0.18154729  0.00114275  0.          0.1111282   0.14141142  0.\n",
      "  0.11677021  0.12640096  0.          0.          0.          0.          0.\n",
      "  0.32159916]\n",
      "15 [ 0.21686309  0.17797901  0.21754149  0.16599987  0.03308995  0.01080746\n",
      "  0.02732396  0.02957753  0.00769772  0.009619    0.00529578  0.01158329\n",
      "  0.01136839  0.07525346]\n",
      "25 [ 0.19617245  0.25228653  0.35405694  0.14093757  0.0070332   0.00354632\n",
      "  0.00580765  0.00628664  0.00286501  0.00371425  0.00263617  0.00450607\n",
      "  0.00415622  0.01599497]\n",
      "35 [ 0.19446952  0.25095945  0.36078556  0.1403522   0.00651257  0.00338136\n",
      "  0.00537775  0.00582128  0.0027704   0.00358363  0.00255195  0.0046158\n",
      "  0.00400757  0.01481096]\n",
      "45 [ 0.19459826  0.25099091  0.36055143  0.1404782   0.00651257  0.00327987\n",
      "  0.00537775  0.00582128  0.0026191   0.00369956  0.00273462  0.00453201\n",
      "  0.00399348  0.01481096]\n",
      "55 [ 0.19445603  0.25113916  0.36049872  0.14047571  0.00651257  0.00332055\n",
      "  0.00537775  0.00582128  0.00263045  0.0037381   0.00260461  0.00454487\n",
      "  0.00406925  0.01481096]\n",
      "65 [ 0.19442738  0.25108838  0.36054632  0.14049096  0.00651257  0.00334454\n",
      "  0.00537775  0.00582128  0.00280296  0.0036918   0.00254571  0.00447142\n",
      "  0.00406797  0.01481096]\n",
      "75 [ 0.19453963  0.25086856  0.36065869  0.14051345  0.00651257  0.0033767\n",
      "  0.00537775  0.00582128  0.00274324  0.00373377  0.00256531  0.00451884\n",
      "  0.00395926  0.01481096]\n",
      "85 [ 0.19455598  0.25088813  0.36061816  0.14054439  0.00651257  0.00335924\n",
      "  0.00537775  0.00582128  0.00270894  0.00364571  0.00263419  0.00455961\n",
      "  0.0039631   0.01481096]\n",
      "95 [ 0.19441939  0.25107053  0.36065397  0.14044049  0.00651257  0.00331096\n",
      "  0.00537775  0.00582128  0.00269842  0.00368316  0.00277848  0.00446418\n",
      "  0.00395786  0.01481096]\n"
     ]
    }
   ],
   "source": [
    "df = pandas.get_dummies(train_data_frame_ret[[\"PdDistrict\",\"Hour\",\"DayOfWeek\",\"Month\",\"Year\"]],\n",
    "                        columns=train_data_frame_ret[[\"PdDistrict\"]])\n",
    "for i in range(5,100,10):\n",
    "    treeClassifier = tree.DecisionTreeClassifier(max_depth = i)\n",
    "    treeClassifier.fit(df,train_data_frame_ret.Category)\n",
    "    print(i,treeClassifier.feature_importances_)"
   ]
  }
 ],
 "metadata": {
  "kernelspec": {
   "display_name": "Python 3",
   "language": "python",
   "name": "python3"
  },
  "language_info": {
   "codemirror_mode": {
    "name": "ipython",
    "version": 3
   },
   "file_extension": ".py",
   "mimetype": "text/x-python",
   "name": "python",
   "nbconvert_exporter": "python",
   "pygments_lexer": "ipython3",
   "version": "3.4.3"
  }
 },
 "nbformat": 4,
 "nbformat_minor": 0
}
