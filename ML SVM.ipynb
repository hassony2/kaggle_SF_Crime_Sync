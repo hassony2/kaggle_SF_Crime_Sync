{
 "cells": [
  {
   "cell_type": "code",
   "execution_count": null,
   "metadata": {
    "collapsed": true
   },
   "outputs": [],
   "source": [
    "#import libraries\n",
    "import numpy as np\n",
    "import scipy as scp\n",
    "import matplotlib as mpl\n",
    "import sklearn as skl\n",
    "import matplotlib.pyplot as plt\n",
    "import pandas\n",
    "from pandas import DataFrame\n",
    "import gzip\n",
    "import re\n",
    "import pydot\n",
    "from sklearn import svm\n",
    "import time\n",
    "\n",
    "%matplotlib inline"
   ]
  },
  {
   "cell_type": "code",
   "execution_count": null,
   "metadata": {
    "collapsed": true
   },
   "outputs": [],
   "source": [
    "train_data_frame = pandas.read_csv(\"data\\\\train.csv\", sep=\",\", quotechar='\"')\n",
    "test = pandas.read_csv(\"data\\\\test.csv\", sep=\",\", quotechar='\"')\n",
    "\n",
    "#extract year, day and hour and create \"Year\", \"Month\", \"Hour\" columns in train_data_frame\n",
    "\n",
    "\n",
    "#\n",
    "def parse_date(date):\n",
    "    \"\"\"\n",
    "    maps date formatted as in training set as a list of [Year, Month, Hour]\n",
    "    :param date: date as formatted in training set\n",
    "    :retuap oject that can extract of Year, Month and Hour\n",
    "    \"\"\"\n",
    "    mo=re.search(r'^([0-9]{4})-([0-9]{2})-[0-9]{2}\\s+([0-9]{2}):[0-9]{2}:[0-9]{2}$',date)\n",
    "    timelist = map(int,(mo.group(1),mo.group(2),mo.group(3)))\n",
    "    return map(int,(mo.group(1),mo.group(2),mo.group(3)))\n",
    "\n",
    "# Extract 'Year', 'Month' and 'Hour' columns for later use\n",
    "train_data_frame['Year'],train_data_frame['Month'],train_data_frame['Hour']=zip(*train_data_frame.loc[:,'Dates'].map(parse_date))\n",
    "test['Year'],test['Month'],test['Hour']=zip(*test.loc[:,'Dates'].map(parse_date))\n",
    "\n",
    "##geographically no anomaly detected except the following outliers, which actually are the same instances\n",
    "#outliersX = np.where(train_data_frame.X >-121)[0]\n",
    "#outliersY = np.where(train_data_frame.Y > 38)[0]\n",
    "\n",
    "#clean date : supress data outliers from dataframe\n",
    "train_data_frame_ret = train_data_frame[train_data_frame.Y < 38]\n",
    "#train_data_frame_ret.shape"
   ]
  },
  {
   "cell_type": "code",
   "execution_count": null,
   "metadata": {
    "collapsed": true
   },
   "outputs": [],
   "source": [
    "#converts unidimensianal ndarray with values in [0::38] into 2 dim ndarray \n",
    "#same length as initially, columns in range(38) filled with 0 except 1 at position given by input\n",
    "\n",
    "def convertToSubmittable(prediction):\n",
    "    \"\"\"\n",
    "    Transforms a column of predictions as a number associated to a Crime Category (between 0 and 38)\n",
    "    into a dataframe filled with 0s except 1 coding the predicted Crime Category in the corresponding column\n",
    "    :param prediction: 1 dimensional ndarray with values in [0:38]\n",
    "    :return submittable: 2 dimensional ndarray with {columns : Crime Categories, rows : Predictions}\n",
    "    \"\"\"\n",
    "    submittable = np.zeros((len(prediction),len(crimeCategoryList)))\n",
    "    for i in range(len(prediction)):\n",
    "        submittable[i][prediction[i]] = 1\n",
    "    return submittable\n",
    "\n",
    "    \n",
    "def prepend(filename, line):\n",
    "    \"\"\"\n",
    "    adds line to first column of first row of csv filename\n",
    "    :type filename: String\n",
    "    :type line: String\n",
    "    :param filename: path to csv file\n",
    "    :param line: String to be added\n",
    "    \"\"\"\n",
    "    #r+ allows file to be read and written\n",
    "    with open(filename, 'r+') as f:\n",
    "        content = f.read()\n",
    "        f.seek(0, 0)\n",
    "        f.write(line.rstrip('\\r\\n')+ content)\n",
    "        \n",
    "def tocsv(submission,filename):\n",
    "    \"\"\"\n",
    "    converts 2d dataframe or ndarray to csv file named filename\n",
    "    :type submission: ndarray\n",
    "    :param submision:that contains probabilities of belonging to various Crime Categories\n",
    "    :param filename: path to csv file \n",
    "    \"\"\"\n",
    "    keys = np.unique(train_data_frame[\"Category\"])\n",
    "    DataFrame(dict(zip(keys, submission.T))).to_csv(filename)\n",
    "\n",
    "\n",
    "def gzipcompress(filename):\n",
    "    \"\"\"\n",
    "    compresses csv to gzip in same folder \n",
    "    :param filename: path to csv file\n",
    "    \"\"\"\n",
    "    with open(filename, 'rb') as f_in:\n",
    "        with gzip.open(filename[:-3]+\"gz\", 'wb') as f_out:\n",
    "            f_out.writelines(f_in)"
   ]
  },
  {
   "cell_type": "code",
   "execution_count": null,
   "metadata": {
    "collapsed": false
   },
   "outputs": [],
   "source": [
    "from sklearn import cross_validation\n",
    "df=pandas.get_dummies(train_data_frame_ret[[\"PdDistrict\",\"Hour\"]])\n",
    "start = time.time()\n",
    "scoresvm = []\n",
    "paramsvm = []\n",
    "k = 10e-3\n",
    "while k<=10e5:\n",
    "    svmClassifier = svm.SVC(C=k, probability = True)\n",
    "    score = cross_validation.cross_val_score(svmClassifier, df,\n",
    "                                             np.ravel(train_data_frame_ret[[\"Category\"]]),\n",
    "                                             cv=5, scoring='log_loss')\n",
    "    scoresvm += [score.mean()]\n",
    "    paramsvm += [k]\n",
    "    elapsedtime = time.time() - start\n",
    "    print(k, scores)\n",
    "    print(elapsedtime)\n",
    "    k = k*10\n",
    "    \n",
    "\n",
    "plt.scatter(paramsvm,scoresvm)\n",
    "\n",
    "plt.title('Decision Tree on District Hour (dummy)')\n",
    "plt.legend([\"logloss\"])\n",
    "plt.xlabel(\"min_sample_leaf\")"
   ]
  },
  {
   "cell_type": "code",
   "execution_count": null,
   "metadata": {
    "collapsed": true
   },
   "outputs": [],
   "source": []
  }
 ],
 "metadata": {
  "kernelspec": {
   "display_name": "Python 3",
   "language": "python",
   "name": "python3"
  },
  "language_info": {
   "codemirror_mode": {
    "name": "ipython",
    "version": 3
   },
   "file_extension": ".py",
   "mimetype": "text/x-python",
   "name": "python",
   "nbconvert_exporter": "python",
   "pygments_lexer": "ipython3",
   "version": "3.4.3"
  }
 },
 "nbformat": 4,
 "nbformat_minor": 0
}
